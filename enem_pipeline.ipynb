{
 "cells": [
  {
   "cell_type": "code",
   "execution_count": 1,
   "id": "dc47fc54",
   "metadata": {},
   "outputs": [
    {
     "name": "stdout",
     "output_type": "stream",
     "text": [
      "Requirement already satisfied: pyspark in c:\\users\\samue\\appdata\\local\\programs\\python\\python310\\lib\\site-packages (4.0.0)\n",
      "Requirement already satisfied: py4j==0.10.9.9 in c:\\users\\samue\\appdata\\local\\programs\\python\\python310\\lib\\site-packages (from pyspark) (0.10.9.9)\n"
     ]
    },
    {
     "name": "stderr",
     "output_type": "stream",
     "text": [
      "WARNING: You are using pip version 21.2.4; however, version 25.1.1 is available.\n",
      "You should consider upgrading via the 'C:\\Users\\samue\\AppData\\Local\\Programs\\Python\\Python310\\python.exe -m pip install --upgrade pip' command.\n"
     ]
    },
    {
     "name": "stdout",
     "output_type": "stream",
     "text": [
      "Requirement already satisfied: findspark in c:\\users\\samue\\appdata\\local\\programs\\python\\python310\\lib\\site-packages (2.0.1)\n"
     ]
    },
    {
     "name": "stderr",
     "output_type": "stream",
     "text": [
      "WARNING: You are using pip version 21.2.4; however, version 25.1.1 is available.\n",
      "You should consider upgrading via the 'C:\\Users\\samue\\AppData\\Local\\Programs\\Python\\Python310\\python.exe -m pip install --upgrade pip' command.\n",
      "'apt-get' n�o � reconhecido como um comando interno\n",
      "ou externo, um programa oper�vel ou um arquivo em lotes.\n",
      "O sistema n�o pode encontrar o caminho especificado.\n",
      "'wget' n�o � reconhecido como um comando interno\n",
      "ou externo, um programa oper�vel ou um arquivo em lotes.\n",
      "tar: Error opening archive: Failed to open 'spark-3.4.1-bin-hadoop3.tgz'\n",
      "'ls' n�o � reconhecido como um comando interno\n",
      "ou externo, um programa oper�vel ou um arquivo em lotes.\n"
     ]
    },
    {
     "name": "stdout",
     "output_type": "stream",
     "text": [
      "Requirement already satisfied: pandas in c:\\users\\samue\\appdata\\local\\programs\\python\\python310\\lib\\site-packages (2.2.3)\n",
      "Requirement already satisfied: python-dateutil>=2.8.2 in c:\\users\\samue\\appdata\\roaming\\python\\python310\\site-packages (from pandas) (2.9.0.post0)\n",
      "Requirement already satisfied: tzdata>=2022.7 in c:\\users\\samue\\appdata\\local\\programs\\python\\python310\\lib\\site-packages (from pandas) (2025.2)\n",
      "Requirement already satisfied: numpy>=1.22.4 in c:\\users\\samue\\appdata\\local\\programs\\python\\python310\\lib\\site-packages (from pandas) (2.2.6)\n",
      "Requirement already satisfied: pytz>=2020.1 in c:\\users\\samue\\appdata\\local\\programs\\python\\python310\\lib\\site-packages (from pandas) (2025.2)\n",
      "Requirement already satisfied: six>=1.5 in c:\\users\\samue\\appdata\\roaming\\python\\python310\\site-packages (from python-dateutil>=2.8.2->pandas) (1.17.0)\n"
     ]
    },
    {
     "name": "stderr",
     "output_type": "stream",
     "text": [
      "WARNING: You are using pip version 21.2.4; however, version 25.1.1 is available.\n",
      "You should consider upgrading via the 'C:\\Users\\samue\\AppData\\Local\\Programs\\Python\\Python310\\python.exe -m pip install --upgrade pip' command.\n"
     ]
    }
   ],
   "source": [
    "!pip install pyspark\n",
    "!pip install findspark\n",
    "\n",
    "!apt-get update -qq\n",
    "!apt-get install -y openjdk-11-jdk-headless -qq > /dev/null\n",
    "\n",
    "!wget -q https://archive.apache.org/dist/spark/spark-3.4.1/spark-3.4.1-bin-hadoop3.tgz\n",
    "\n",
    "!tar xf spark-3.4.1-bin-hadoop3.tgz\n",
    "\n",
    "# Verifica se a pasta python/lib existe\n",
    "!ls spark-3.4.1-bin-hadoop3/python/lib/\n",
    "\n",
    "!pip install pandas\n"
   ]
  },
  {
   "cell_type": "code",
   "execution_count": 2,
   "id": "b7992174",
   "metadata": {},
   "outputs": [
    {
     "name": "stdout",
     "output_type": "stream",
     "text": [
      "Spark Session criada com sucesso!\n"
     ]
    }
   ],
   "source": [
    "from pyspark.sql import SparkSession\n",
    "import os\n",
    "import pandas as pd\n",
    "\n",
    "os.environ[\"JAVA_HOME\"] = \"C:\\\\Program Files\\\\Java\\\\jdk-17\"  \n",
    "\n",
    "spark = SparkSession.builder \\\n",
    "    .appName(\"EnemAnalysis\") \\\n",
    "    .master(\"local[*]\") \\\n",
    "    .getOrCreate()\n",
    "\n",
    "print(\"Spark Session criada com sucesso!\")\n"
   ]
  },
  {
   "cell_type": "markdown",
   "id": "29373c67",
   "metadata": {},
   "source": [
    "Leitura do arquivo csv com os microdados do enem 2023\n"
   ]
  },
  {
   "cell_type": "code",
   "execution_count": 29,
   "id": "74afa5e2",
   "metadata": {},
   "outputs": [],
   "source": [
    "df = spark.read.csv(\"MICRODADOS_ENEM_2023.csv\", header=True, inferSchema=True, sep=';').na.drop()"
   ]
  },
  {
   "cell_type": "markdown",
   "id": "1830e06f",
   "metadata": {},
   "source": [
    "Mudança do parâmetro 2 e 3 para indicar escola pública e privada, respectivamente"
   ]
  },
  {
   "cell_type": "code",
   "execution_count": 24,
   "id": "d4c4a669",
   "metadata": {},
   "outputs": [],
   "source": [
    "from pyspark.sql.functions import when\n",
    "\n",
    "df_filtrado = df.filter(df.TP_ESCOLA.isin(2,3)).na.drop()\n",
    "df_filtrado = df_filtrado.withColumn('TP_ESCOLA', \n",
    "                       when(df_filtrado.TP_ESCOLA == '2', \"Publica\")\n",
    "                       .when(df_filtrado.TP_ESCOLA == '3', \"Privada\"))\n",
    "\n"
   ]
  },
  {
   "cell_type": "markdown",
   "id": "846e430e",
   "metadata": {},
   "source": [
    "Criação de colunas entre todos os alunos que tiraram mais que 700 nas competencias no Brasil"
   ]
  },
  {
   "cell_type": "code",
   "execution_count": 26,
   "id": "a616afea",
   "metadata": {},
   "outputs": [],
   "source": [
    "df_notas = df_filtrado.withColumn('Acima_700_MT',when(df_filtrado.NU_NOTA_MT >= 700, 1).otherwise(0)) \\\n",
    "                      .withColumn('Acima_700_CN',when(df_filtrado.NU_NOTA_CN >= 700, 1).otherwise(0)) \\\n",
    "                      .withColumn('Acima_700_CH',when(df_filtrado.NU_NOTA_CH >= 700, 1).otherwise(0)) \\\n",
    "                      .withColumn('Acima_700_LC',when(df_filtrado.NU_NOTA_LC >= 700, 1).otherwise(0)) \\\n",
    "                      .withColumn('Acima_700_REDACAO',when(df_filtrado.NU_NOTA_REDACAO >= 700, 1).otherwise(0))"
   ]
  },
  {
   "cell_type": "code",
   "execution_count": 27,
   "id": "5dedb738",
   "metadata": {},
   "outputs": [
    {
     "data": {
      "text/html": [
       "<div>\n",
       "<style scoped>\n",
       "    .dataframe tbody tr th:only-of-type {\n",
       "        vertical-align: middle;\n",
       "    }\n",
       "\n",
       "    .dataframe tbody tr th {\n",
       "        vertical-align: top;\n",
       "    }\n",
       "\n",
       "    .dataframe thead th {\n",
       "        text-align: right;\n",
       "    }\n",
       "</style>\n",
       "<table border=\"1\" class=\"dataframe\">\n",
       "  <thead>\n",
       "    <tr style=\"text-align: right;\">\n",
       "      <th></th>\n",
       "      <th>TP_ESCOLA</th>\n",
       "      <th>total</th>\n",
       "      <th>total_acima_700_mt</th>\n",
       "      <th>total_acima_700_cn</th>\n",
       "      <th>total_acima_700_ch</th>\n",
       "      <th>total_acima_700_lc</th>\n",
       "      <th>total_acima_700_redacao</th>\n",
       "    </tr>\n",
       "  </thead>\n",
       "  <tbody>\n",
       "    <tr>\n",
       "      <th>0</th>\n",
       "      <td>Privada</td>\n",
       "      <td>193554</td>\n",
       "      <td>65134</td>\n",
       "      <td>6638</td>\n",
       "      <td>5555</td>\n",
       "      <td>1193</td>\n",
       "      <td>139117</td>\n",
       "    </tr>\n",
       "    <tr>\n",
       "      <th>1</th>\n",
       "      <td>Publica</td>\n",
       "      <td>515059</td>\n",
       "      <td>33776</td>\n",
       "      <td>967</td>\n",
       "      <td>1709</td>\n",
       "      <td>331</td>\n",
       "      <td>173451</td>\n",
       "    </tr>\n",
       "  </tbody>\n",
       "</table>\n",
       "</div>"
      ],
      "text/plain": [
       "  TP_ESCOLA   total  total_acima_700_mt  total_acima_700_cn  \\\n",
       "0   Privada  193554               65134                6638   \n",
       "1   Publica  515059               33776                 967   \n",
       "\n",
       "   total_acima_700_ch  total_acima_700_lc  total_acima_700_redacao  \n",
       "0                5555                1193                   139117  \n",
       "1                1709                 331                   173451  "
      ]
     },
     "execution_count": 27,
     "metadata": {},
     "output_type": "execute_result"
    }
   ],
   "source": [
    "from pyspark.sql.functions import sum as _sum, count\n",
    "\n",
    "df_resultado = df_notas.groupBy('TP_ESCOLA').agg(count('*').alias('total'),\n",
    "                                _sum('Acima_700_MT').alias('total_acima_700_mt'),\n",
    "                                _sum('Acima_700_CN').alias('total_acima_700_cn'),\n",
    "                                _sum('Acima_700_CH').alias('total_acima_700_ch'),\n",
    "                                _sum('Acima_700_LC').alias('total_acima_700_lc'),\n",
    "                                _sum('Acima_700_REDACAO').alias('total_acima_700_redacao'),)\n",
    "df_resultado.toPandas()"
   ]
  },
  {
   "cell_type": "markdown",
   "id": "b0336d4d",
   "metadata": {},
   "source": [
    "Analise de proporção por competência entre escolas públicas e privadas no Brasil"
   ]
  },
  {
   "cell_type": "code",
   "execution_count": 28,
   "id": "38e60a8b",
   "metadata": {},
   "outputs": [
    {
     "data": {
      "text/html": [
       "<div>\n",
       "<style scoped>\n",
       "    .dataframe tbody tr th:only-of-type {\n",
       "        vertical-align: middle;\n",
       "    }\n",
       "\n",
       "    .dataframe tbody tr th {\n",
       "        vertical-align: top;\n",
       "    }\n",
       "\n",
       "    .dataframe thead th {\n",
       "        text-align: right;\n",
       "    }\n",
       "</style>\n",
       "<table border=\"1\" class=\"dataframe\">\n",
       "  <thead>\n",
       "    <tr style=\"text-align: right;\">\n",
       "      <th></th>\n",
       "      <th>TP_ESCOLA</th>\n",
       "      <th>total</th>\n",
       "      <th>total_acima_700_mt</th>\n",
       "      <th>total_acima_700_cn</th>\n",
       "      <th>total_acima_700_ch</th>\n",
       "      <th>total_acima_700_lc</th>\n",
       "      <th>total_acima_700_redacao</th>\n",
       "      <th>proporcao_acima_700_mt</th>\n",
       "      <th>proporcao_acima_700_cn</th>\n",
       "      <th>proporcao_acima_700_ch</th>\n",
       "      <th>proporcao_acima_700_lc</th>\n",
       "      <th>proporcao_acima_700_redacao</th>\n",
       "    </tr>\n",
       "  </thead>\n",
       "  <tbody>\n",
       "    <tr>\n",
       "      <th>0</th>\n",
       "      <td>Privada</td>\n",
       "      <td>193554</td>\n",
       "      <td>65134</td>\n",
       "      <td>6638</td>\n",
       "      <td>5555</td>\n",
       "      <td>1193</td>\n",
       "      <td>139117</td>\n",
       "      <td>0.3365</td>\n",
       "      <td>0.0343</td>\n",
       "      <td>0.0287</td>\n",
       "      <td>0.0062</td>\n",
       "      <td>0.7188</td>\n",
       "    </tr>\n",
       "    <tr>\n",
       "      <th>1</th>\n",
       "      <td>Publica</td>\n",
       "      <td>515059</td>\n",
       "      <td>33776</td>\n",
       "      <td>967</td>\n",
       "      <td>1709</td>\n",
       "      <td>331</td>\n",
       "      <td>173451</td>\n",
       "      <td>0.0656</td>\n",
       "      <td>0.0019</td>\n",
       "      <td>0.0033</td>\n",
       "      <td>0.0006</td>\n",
       "      <td>0.3368</td>\n",
       "    </tr>\n",
       "  </tbody>\n",
       "</table>\n",
       "</div>"
      ],
      "text/plain": [
       "  TP_ESCOLA   total  total_acima_700_mt  total_acima_700_cn  \\\n",
       "0   Privada  193554               65134                6638   \n",
       "1   Publica  515059               33776                 967   \n",
       "\n",
       "   total_acima_700_ch  total_acima_700_lc  total_acima_700_redacao  \\\n",
       "0                5555                1193                   139117   \n",
       "1                1709                 331                   173451   \n",
       "\n",
       "   proporcao_acima_700_mt  proporcao_acima_700_cn  proporcao_acima_700_ch  \\\n",
       "0                  0.3365                  0.0343                  0.0287   \n",
       "1                  0.0656                  0.0019                  0.0033   \n",
       "\n",
       "   proporcao_acima_700_lc  proporcao_acima_700_redacao  \n",
       "0                  0.0062                       0.7188  \n",
       "1                  0.0006                       0.3368  "
      ]
     },
     "execution_count": 28,
     "metadata": {},
     "output_type": "execute_result"
    }
   ],
   "source": [
    "from pyspark.sql.functions import col, round\n",
    "\n",
    "df_resultado = df_resultado \\\n",
    "    .withColumn(\"proporcao_acima_700_mt\", round(col('total_acima_700_mt') / col('total'), 4)) \\\n",
    "    .withColumn(\"proporcao_acima_700_cn\", round(col('total_acima_700_cn') / col('total'), 4)) \\\n",
    "    .withColumn(\"proporcao_acima_700_ch\", round(col('total_acima_700_ch') / col('total'), 4)) \\\n",
    "    .withColumn(\"proporcao_acima_700_lc\", round(col('total_acima_700_lc') / col('total'), 4)) \\\n",
    "    .withColumn(\"proporcao_acima_700_redacao\", round(col('total_acima_700_redacao') / col('total'), 4))\n",
    "\n",
    "\n",
    "df_resultado.toPandas()"
   ]
  },
  {
   "cell_type": "markdown",
   "id": "56b48079",
   "metadata": {},
   "source": [
    "Análise de proporção por competência entre escolas públicas e privadas na PB"
   ]
  },
  {
   "cell_type": "code",
   "execution_count": 17,
   "id": "94ca4ce7",
   "metadata": {},
   "outputs": [
    {
     "name": "stdout",
     "output_type": "stream",
     "text": [
      "+---------+----------------+\n",
      "|TP_ESCOLA|total_estudantes|\n",
      "+---------+----------------+\n",
      "|  Privada|            4210|\n",
      "|  Publica|           13090|\n",
      "+---------+----------------+\n",
      "\n"
     ]
    }
   ],
   "source": [
    "from pyspark.sql.functions import count\n",
    "\n",
    "df_notas_pb = df_filtrado.filter(df_notas.SG_UF_PROVA == 'PB').na.drop() \n",
    "\n",
    "df_notas_pb_tot = df_notas_pb.groupBy( 'TP_ESCOLA') \\\n",
    "  .agg(count('*').alias('total_estudantes')) \\\n",
    "  .orderBy( 'TP_ESCOLA')\n",
    " \n",
    "df_notas_pb_tot.show(5)"
   ]
  },
  {
   "cell_type": "code",
   "execution_count": 19,
   "id": "02991d40",
   "metadata": {},
   "outputs": [],
   "source": [
    "df_notas_pb = df_notas_pb.withColumn('Acima_700_MT',when(df_notas_pb.NU_NOTA_MT >= 700, 1).otherwise(0)) \\\n",
    "                      .withColumn('Acima_700_CN',when(df_notas_pb.NU_NOTA_CN >= 700, 1).otherwise(0)) \\\n",
    "                      .withColumn('Acima_700_CH',when(df_notas_pb.NU_NOTA_CH >= 700, 1).otherwise(0)) \\\n",
    "                      .withColumn('Acima_700_LC',when(df_notas_pb.NU_NOTA_LC >= 700, 1).otherwise(0)) \\\n",
    "                      .withColumn('Acima_700_REDACAO',when(df_notas_pb.NU_NOTA_REDACAO >= 700, 1).otherwise(0))\n",
    "              \n"
   ]
  },
  {
   "cell_type": "code",
   "execution_count": 20,
   "id": "8d4e2a20",
   "metadata": {},
   "outputs": [],
   "source": [
    "df_notas_pb = df_notas_pb.groupBy('TP_ESCOLA').agg(\n",
    "    count('*').alias('total'),\n",
    "    _sum('Acima_700_MT').alias('total_acima_700_mt'),\n",
    "    _sum('Acima_700_CN').alias('total_acima_700_cn'),\n",
    "    _sum('Acima_700_CH').alias('total_acima_700_CH'),\n",
    "    _sum('Acima_700_LC').alias('total_acima_700_LC'),\n",
    "    _sum('Acima_700_REDACAO').alias('total_acima_700_redacao')\n",
    ")"
   ]
  },
  {
   "cell_type": "code",
   "execution_count": null,
   "id": "36b465c5",
   "metadata": {},
   "outputs": [
    {
     "data": {
      "text/html": [
       "<div>\n",
       "<style scoped>\n",
       "    .dataframe tbody tr th:only-of-type {\n",
       "        vertical-align: middle;\n",
       "    }\n",
       "\n",
       "    .dataframe tbody tr th {\n",
       "        vertical-align: top;\n",
       "    }\n",
       "\n",
       "    .dataframe thead th {\n",
       "        text-align: right;\n",
       "    }\n",
       "</style>\n",
       "<table border=\"1\" class=\"dataframe\">\n",
       "  <thead>\n",
       "    <tr style=\"text-align: right;\">\n",
       "      <th></th>\n",
       "      <th>TP_ESCOLA</th>\n",
       "      <th>total</th>\n",
       "      <th>total_acima_700_mt</th>\n",
       "      <th>total_acima_700_cn</th>\n",
       "      <th>total_acima_700_CH</th>\n",
       "      <th>total_acima_700_LC</th>\n",
       "      <th>total_acima_700_redacao</th>\n",
       "      <th>proporcao_acima_700_mt</th>\n",
       "      <th>proporcao_acima_700_cn</th>\n",
       "      <th>proporcao_acima_700_ch</th>\n",
       "      <th>proporcao_acima_700_lc</th>\n",
       "      <th>proporcao_acima_700_redacao</th>\n",
       "    </tr>\n",
       "  </thead>\n",
       "  <tbody>\n",
       "    <tr>\n",
       "      <th>0</th>\n",
       "      <td>Privada</td>\n",
       "      <td>4210</td>\n",
       "      <td>1315</td>\n",
       "      <td>127</td>\n",
       "      <td>135</td>\n",
       "      <td>27</td>\n",
       "      <td>3333</td>\n",
       "      <td>0.3124</td>\n",
       "      <td>0.0302</td>\n",
       "      <td>0.0321</td>\n",
       "      <td>0.0064</td>\n",
       "      <td>0.7917</td>\n",
       "    </tr>\n",
       "    <tr>\n",
       "      <th>1</th>\n",
       "      <td>Publica</td>\n",
       "      <td>13090</td>\n",
       "      <td>578</td>\n",
       "      <td>15</td>\n",
       "      <td>24</td>\n",
       "      <td>2</td>\n",
       "      <td>5215</td>\n",
       "      <td>0.0442</td>\n",
       "      <td>0.0011</td>\n",
       "      <td>0.0018</td>\n",
       "      <td>0.0002</td>\n",
       "      <td>0.3984</td>\n",
       "    </tr>\n",
       "  </tbody>\n",
       "</table>\n",
       "</div>"
      ],
      "text/plain": [
       "  TP_ESCOLA  total  total_acima_700_mt  total_acima_700_cn  \\\n",
       "0   Privada   4210                1315                 127   \n",
       "1   Publica  13090                 578                  15   \n",
       "\n",
       "   total_acima_700_CH  total_acima_700_LC  total_acima_700_redacao  \\\n",
       "0                 135                  27                     3333   \n",
       "1                  24                   2                     5215   \n",
       "\n",
       "   proporcao_acima_700_mt  proporcao_acima_700_cn  proporcao_acima_700_ch  \\\n",
       "0                  0.3124                  0.0302                  0.0321   \n",
       "1                  0.0442                  0.0011                  0.0018   \n",
       "\n",
       "   proporcao_acima_700_lc  proporcao_acima_700_redacao  \n",
       "0                  0.0064                       0.7917  \n",
       "1                  0.0002                       0.3984  "
      ]
     },
     "execution_count": 21,
     "metadata": {},
     "output_type": "execute_result"
    }
   ],
   "source": [
    "from pyspark.sql.functions import col, round\n",
    "\n",
    "\n",
    "df_notas_pb = df_notas_pb \\\n",
    "    .withColumn(\"proporcao_acima_700_mt\", round(col('total_acima_700_mt') / col('total'), 4)) \\\n",
    "    .withColumn(\"proporcao_acima_700_cn\", round(col('total_acima_700_cn') / col('total'), 4)) \\\n",
    "    .withColumn(\"proporcao_acima_700_ch\", round(col('total_acima_700_ch') / col('total'), 4)) \\\n",
    "    .withColumn(\"proporcao_acima_700_lc\", round(col('total_acima_700_lc') / col('total'), 4)) \\\n",
    "    .withColumn(\"proporcao_acima_700_redacao\", round(col('total_acima_700_redacao') / col('total'), 4))\n",
    "\n",
    "df_notas_pb.toPandas()"
   ]
  }
 ],
 "metadata": {
  "kernelspec": {
   "display_name": "Python 3",
   "language": "python",
   "name": "python3"
  },
  "language_info": {
   "codemirror_mode": {
    "name": "ipython",
    "version": 3
   },
   "file_extension": ".py",
   "mimetype": "text/x-python",
   "name": "python",
   "nbconvert_exporter": "python",
   "pygments_lexer": "ipython3",
   "version": "3.10.1"
  }
 },
 "nbformat": 4,
 "nbformat_minor": 5
}
